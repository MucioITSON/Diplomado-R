{
  "nbformat": 4,
  "nbformat_minor": 0,
  "metadata": {
    "colab": {
      "name": "Variación.ipynb",
      "provenance": [],
      "authorship_tag": "ABX9TyMeVb/qY0yaO7ut5p/ReXf1",
      "include_colab_link": true
    },
    "kernelspec": {
      "name": "ir",
      "display_name": "R"
    },
    "language_info": {
      "name": "R"
    }
  },
  "cells": [
    {
      "cell_type": "markdown",
      "metadata": {
        "id": "view-in-github",
        "colab_type": "text"
      },
      "source": [
        "<a href=\"https://colab.research.google.com/github/MucioITSON/Diplomado-R/blob/main/Variaci%C3%B3n.ipynb\" target=\"_parent\"><img src=\"https://colab.research.google.com/assets/colab-badge.svg\" alt=\"Open In Colab\"/></a>"
      ]
    },
    {
      "cell_type": "markdown",
      "metadata": {
        "id": "ADe89Sq_Bp8z"
      },
      "source": [
        "# Dispersión, variabilidad o heterogeneidad\n",
        "\n",
        "Estudiar la distribución de los valores de la serie, analizando si estos se encuentran más o menos concentrados, o más o menos dispersos. \n",
        "\n",
        "![tinystats.github.io](https://tinystats.github.io/teacups-giraffes-and-statistics/images/04_variance/giraffe_variance2.jpg)\n",
        "\n",
        "***\n",
        "> ¿Qué tan homogeneas son las exhalaciones del geyser Old Faithful?\n",
        "***\n",
        "Existen diversas medidas de dispersión, entre las más utilizadas podemos destacar las siguientes:\n",
        "\n",
        "## Amplitud.\n",
        "Es la medida de dispersión más fácil de obtener. Se obtiene hallando la diferencia entre la observación mayor y la menor (el valor máximo menos el valor mínimo). La amplitud es una medida muy influenciada por los valores extremos y por lo tanto puede dar una impresión falsa sobre los valores reales de la distribución.\n",
        "\n",
        "\n"
      ]
    },
    {
      "cell_type": "code",
      "metadata": {
        "colab": {
          "base_uri": "https://localhost:8080/",
          "height": 52
        },
        "id": "Lqv38PYR0q7M",
        "outputId": "5fbabe60-de1a-4cd9-c9dd-e8dffd91af76"
      },
      "source": [
        "# La amplitud del tiempo que tardan las exhalaciones y el  tiempo entre exhalaciones\n",
        "\n",
        "max(faithful$eruptions)-min(faithful$eruptions)\n",
        "diff(range(faithful$eruptions))\n",
        "\n",
        "\n"
      ],
      "execution_count": null,
      "outputs": [
        {
          "output_type": "display_data",
          "data": {
            "text/plain": [
              "[1] 3.5"
            ],
            "text/latex": "3.5",
            "text/markdown": "3.5",
            "text/html": [
              "3.5"
            ]
          },
          "metadata": {
            "tags": []
          }
        },
        {
          "output_type": "display_data",
          "data": {
            "text/plain": [
              "[1] 3.5"
            ],
            "text/latex": "3.5",
            "text/markdown": "3.5",
            "text/html": [
              "3.5"
            ]
          },
          "metadata": {
            "tags": []
          }
        }
      ]
    },
    {
      "cell_type": "markdown",
      "metadata": {
        "id": "tox79R0A1hOb"
      },
      "source": [
        "Interpretación:"
      ]
    },
    {
      "cell_type": "markdown",
      "metadata": {
        "id": "aJ2FcrAP0XbN"
      },
      "source": [
        "## Varianza.\n",
        "Mide la distancia (cuadrada) existente entre los valores de la serie y la media. Mientras más se aproxima a cero, más concentrados están los valores de la serie alrededor de la media. Por el contrario, mientras mayor sea la varianza, más dispersos están. El símbolo para representar a la varianza muestral es\n",
        "$s^2$ y para la varianza poblacional $\\sigma^2$.\n",
        "\n",
        "$$s^2=\\frac{1}{n-1}{\\sum_{i=1}^{n}\\left(x_i-\\bar{x}\\right)^2}$$\n",
        "\n",
        "$$\\sigma^2=\\frac{1}{N}{\\sum_{i=1}^{N}\\left(x_i-\\mu\\right)^2}$$\n",
        "\n",
        "## Desviación estándar o típica.\n",
        "Se calcula como raíz cuadrada de la varianza.\n",
        "\n",
        "Nótese que ni la varianza ni la desviación estándar pueden ser negativas y son cero sólo cuando todos los datos tienen el mismo valor que no es otro que el valor de la media.\n"
      ]
    },
    {
      "cell_type": "code",
      "metadata": {
        "id": "z1bXP4B9cSbW"
      },
      "source": [
        "# La varianza de las exhalaciones y el tiempo entre exhalaciones\n",
        "\n",
        "var(faithful$eruptions)\n",
        "# la desviación estándar\n",
        "sd(faithful$eruptions)\n",
        "\n"
      ],
      "execution_count": null,
      "outputs": []
    },
    {
      "cell_type": "markdown",
      "metadata": {
        "id": "fr7nj0bucFM9"
      },
      "source": [
        "\n",
        "* Se puede usar a la amplitud para estimar a la desviación estándar ([Range Rule for Standard Deviation](https://scholar.rose-hulman.edu/cgi/viewcontent.cgi?article=1211&context=rhumj)).\n",
        "\n",
        "* [Estimación de la media y de la desviación estándar a partir de la amplitud](https://bmcmedresmethodol.biomedcentral.com/articles/10.1186/1471-2288-14-135)\n",
        "\n",
        "* [Use of the Range Instead of the Standard Deviation](https://www.jstor.org/stable/2281203).\n",
        "\n",
        "\n",
        "COPIARLO HASTA DESPUES DE PREGUNTAR"
      ]
    },
    {
      "cell_type": "code",
      "metadata": {
        "id": "fl7Dj_QO44_z",
        "colab": {
          "base_uri": "https://localhost:8080/",
          "height": 86
        },
        "outputId": "c9185c6e-bc24-41df-bb32-89afb6757452"
      },
      "source": [
        "# Aproximaciones de la desviación estándar\n",
        "# estimación de la desviación estándar\n",
        "diff(range(faithful$eruptions)) / 4\n",
        "sd(faithful$eruptions)\n",
        "\n",
        "diff(range(faithful$waiting)) / 4\n",
        "sd(faithful$waiting)\n"
      ],
      "execution_count": null,
      "outputs": [
        {
          "output_type": "display_data",
          "data": {
            "text/plain": [
              "[1] 0.875"
            ],
            "text/latex": "0.875",
            "text/markdown": "0.875",
            "text/html": [
              "0.875"
            ]
          },
          "metadata": {
            "tags": []
          }
        },
        {
          "output_type": "display_data",
          "data": {
            "text/plain": [
              "[1] 1.141371"
            ],
            "text/latex": "1.14137125110521",
            "text/markdown": "1.14137125110521",
            "text/html": [
              "1.14137125110521"
            ]
          },
          "metadata": {
            "tags": []
          }
        },
        {
          "output_type": "display_data",
          "data": {
            "text/plain": [
              "[1] 13.25"
            ],
            "text/latex": "13.25",
            "text/markdown": "13.25",
            "text/html": [
              "13.25"
            ]
          },
          "metadata": {
            "tags": []
          }
        },
        {
          "output_type": "display_data",
          "data": {
            "text/plain": [
              "[1] 13.59497"
            ],
            "text/latex": "13.5949737899994",
            "text/markdown": "13.5949737899994",
            "text/html": [
              "13.5949737899994"
            ]
          },
          "metadata": {
            "tags": []
          }
        }
      ]
    },
    {
      "cell_type": "code",
      "metadata": {
        "colab": {
          "base_uri": "https://localhost:8080/",
          "height": 69
        },
        "id": "xOjoPUt0FVPD",
        "outputId": "bf078756-be60-459a-8f8e-d425ac1b0bd7"
      },
      "source": [
        "glucosa <- read.csv('glucosa.csv')\n",
        "\n",
        "diff(range(glucosa$glucosamgpordL))/4\n",
        "diff(range(glucosa$glucosamgpordL))/6\n",
        "\n",
        "sd(glucosa$glucosamgpordL)\n",
        "\n",
        "\n"
      ],
      "execution_count": null,
      "outputs": [
        {
          "output_type": "display_data",
          "data": {
            "text/plain": [
              "[1] 92.25"
            ],
            "text/latex": "92.25",
            "text/markdown": "92.25",
            "text/html": [
              "92.25"
            ]
          },
          "metadata": {
            "tags": []
          }
        },
        {
          "output_type": "display_data",
          "data": {
            "text/plain": [
              "[1] 52.71429"
            ],
            "text/latex": "52.7142857142857",
            "text/markdown": "52.7142857142857",
            "text/html": [
              "52.7142857142857"
            ]
          },
          "metadata": {
            "tags": []
          }
        },
        {
          "output_type": "display_data",
          "data": {
            "text/plain": [
              "[1] 57.76527"
            ],
            "text/latex": "57.7652695079621",
            "text/markdown": "57.7652695079621",
            "text/html": [
              "57.7652695079621"
            ]
          },
          "metadata": {
            "tags": []
          }
        }
      ]
    },
    {
      "cell_type": "markdown",
      "metadata": {
        "id": "nR94np8s3W0j"
      },
      "source": [
        "# La [regla empirica](https://online.stat.psu.edu/stat200/lesson/2/2.2/2.2.7)\n",
        "<center>\n",
        "\n",
        "![](https://upload.wikimedia.org/wikipedia/commons/thumb/2/22/Empirical_rule_histogram.svg/553px-Empirical_rule_histogram.svg.png)\n",
        "\n",
        "</center>\n",
        "PONERLA DESPUES DE PREGUNTAR"
      ]
    },
    {
      "cell_type": "code",
      "metadata": {
        "id": "HbNDLI4k5ERv",
        "colab": {
          "base_uri": "https://localhost:8080/",
          "height": 69
        },
        "outputId": "45f26146-61b1-49f1-a418-6bca615b30ec"
      },
      "source": [
        "# Regla empirica\n",
        "\n",
        "mean(faithful$eruptions)-3*sd(faithful$eruptions)\n",
        "mean(faithful$eruptions)+3*sd(faithful$eruptions)\n",
        "\n",
        "range(faithful$eruptions)"
      ],
      "execution_count": null,
      "outputs": [
        {
          "output_type": "display_data",
          "data": {
            "text/plain": [
              "[1] 0.06366933"
            ],
            "text/latex": "0.0636693349196689",
            "text/markdown": "0.0636693349196689",
            "text/html": [
              "0.0636693349196689"
            ]
          },
          "metadata": {
            "tags": []
          }
        },
        {
          "output_type": "display_data",
          "data": {
            "text/plain": [
              "[1] 6.911897"
            ],
            "text/latex": "6.91189684155092",
            "text/markdown": "6.91189684155092",
            "text/html": [
              "6.91189684155092"
            ]
          },
          "metadata": {
            "tags": []
          }
        },
        {
          "output_type": "display_data",
          "data": {
            "text/plain": [
              "[1] 1.6 5.1"
            ],
            "text/latex": "\\begin{enumerate*}\n\\item 1.6\n\\item 5.1\n\\end{enumerate*}\n",
            "text/markdown": "1. 1.6\n2. 5.1\n\n\n",
            "text/html": [
              "<style>\n",
              ".list-inline {list-style: none; margin:0; padding: 0}\n",
              ".list-inline>li {display: inline-block}\n",
              ".list-inline>li:not(:last-child)::after {content: \"\\00b7\"; padding: 0 .5ex}\n",
              "</style>\n",
              "<ol class=list-inline><li>1.6</li><li>5.1</li></ol>\n"
            ]
          },
          "metadata": {
            "tags": []
          }
        }
      ]
    },
    {
      "cell_type": "markdown",
      "metadata": {
        "id": "0NmRQSRp0yHc"
      },
      "source": [
        "\n",
        "## Rango intercuartil\n",
        "\n",
        "Es una medida resistente de variación,puesto que elimina al 25% de datos más pequeños y al 25% de los datos mas grandes mide la amplitud del 50% de los datos centrales. \n",
        "\n",
        "$$AIC=P_{0.75}-P_{0.25}$$\n",
        "\n",
        "## Desviación absoluta de la mediana\n",
        "\n",
        "Es la mediana de las desviaciónes absolutas de cada valor respecto a la mediana.\n",
        "\n"
      ]
    },
    {
      "cell_type": "code",
      "metadata": {
        "id": "XpAIixRRx9Uu",
        "colab": {
          "base_uri": "https://localhost:8080/",
          "height": 52
        },
        "outputId": "45c0fdee-e4a7-4979-d1ec-dcff65286475"
      },
      "source": [
        "median((abs(faithful$eruptions-median(faithful$eruptions))))\n",
        "\n",
        "median((abs(faithful$waiting-median(faithful$waiting))))\n"
      ],
      "execution_count": null,
      "outputs": [
        {
          "output_type": "display_data",
          "data": {
            "text/plain": [
              "[1] 0.6415"
            ],
            "text/latex": "0.6415",
            "text/markdown": "0.6415",
            "text/html": [
              "0.6415"
            ]
          },
          "metadata": {
            "tags": []
          }
        },
        {
          "output_type": "display_data",
          "data": {
            "text/plain": [
              "[1] 8"
            ],
            "text/latex": "8",
            "text/markdown": "8",
            "text/html": [
              "8"
            ]
          },
          "metadata": {
            "tags": []
          }
        }
      ]
    },
    {
      "cell_type": "code",
      "metadata": {
        "colab": {
          "base_uri": "https://localhost:8080/",
          "height": 155
        },
        "id": "7TJMWbXbB2yz",
        "outputId": "b73f410e-3ec9-4cae-f2a7-9dae9c4f00fb"
      },
      "source": [
        "# comparación de las medidas de variación\n",
        "x = c(2, 4 ,8 ,9 ,11, 11, 12)\n",
        "\n",
        "median((abs(x-median(x))))\n",
        "var(x)\n",
        "sd(x)\n",
        "diff(quantile(x,c(.25,.75),type = 2))\n",
        "\n",
        "y =c(2, 4, 8, 9, 11, 11, 120) \n",
        "\n",
        "median((abs(y-median(y))))\n",
        "var(y)\n",
        "sd(y)\n",
        "diff(quantile(y,c(.25,.75),type = 2))\n"
      ],
      "execution_count": null,
      "outputs": [
        {
          "output_type": "display_data",
          "data": {
            "text/plain": [
              "[1] 2"
            ],
            "text/latex": "2",
            "text/markdown": "2",
            "text/html": [
              "2"
            ]
          },
          "metadata": {
            "tags": []
          }
        },
        {
          "output_type": "display_data",
          "data": {
            "text/plain": [
              "[1] 14.47619"
            ],
            "text/latex": "14.4761904761905",
            "text/markdown": "14.4761904761905",
            "text/html": [
              "14.4761904761905"
            ]
          },
          "metadata": {
            "tags": []
          }
        },
        {
          "output_type": "display_data",
          "data": {
            "text/plain": [
              "[1] 3.804759"
            ],
            "text/latex": "3.80475892484537",
            "text/markdown": "3.80475892484537",
            "text/html": [
              "3.80475892484537"
            ]
          },
          "metadata": {
            "tags": []
          }
        },
        {
          "output_type": "display_data",
          "data": {
            "text/plain": [
              "75% \n",
              "  7 "
            ],
            "text/latex": "\\textbf{75\\textbackslash{}\\%:} 7",
            "text/markdown": "**75%:** 7",
            "text/html": [
              "<strong>75%:</strong> 7"
            ]
          },
          "metadata": {
            "tags": []
          }
        },
        {
          "output_type": "display_data",
          "data": {
            "text/plain": [
              "[1] 2"
            ],
            "text/latex": "2",
            "text/markdown": "2",
            "text/html": [
              "2"
            ]
          },
          "metadata": {
            "tags": []
          }
        },
        {
          "output_type": "display_data",
          "data": {
            "text/plain": [
              "[1] 1819.619"
            ],
            "text/latex": "1819.61904761905",
            "text/markdown": "1819.61904761905",
            "text/html": [
              "1819.61904761905"
            ]
          },
          "metadata": {
            "tags": []
          }
        },
        {
          "output_type": "display_data",
          "data": {
            "text/plain": [
              "[1] 42.65699"
            ],
            "text/latex": "42.6569929509693",
            "text/markdown": "42.6569929509693",
            "text/html": [
              "42.6569929509693"
            ]
          },
          "metadata": {
            "tags": []
          }
        },
        {
          "output_type": "display_data",
          "data": {
            "text/plain": [
              "75% \n",
              "  7 "
            ],
            "text/latex": "\\textbf{75\\textbackslash{}\\%:} 7",
            "text/markdown": "**75%:** 7",
            "text/html": [
              "<strong>75%:</strong> 7"
            ]
          },
          "metadata": {
            "tags": []
          }
        }
      ]
    },
    {
      "cell_type": "markdown",
      "metadata": {
        "id": "sc0iX7rq0hTD"
      },
      "source": [
        "## Compartir Notebooks a través de GitHub\n",
        "\n",
        "[GitHub](github.com) es una plataforma de desarrollo colaborativo para alojar proyectos utilizando el sistema de control de versiones Git. Se utiliza principalmente para la creación de código fuente de programas de ordenador. \n",
        "\n",
        "En nuestro caso lo usaremos como un repositorio que nos permitirá compartir nuestras Notebooks con código de R y para crear una página web personal.\n"
      ]
    },
    {
      "cell_type": "markdown",
      "metadata": {
        "id": "H8YtBRGV1-Y_"
      },
      "source": [
        "Suponga que requiere compartir esta Notebook a través de GitHub.\n",
        "\n",
        "1. Iniciar sesión en GitHub\n",
        "\n",
        "![](https://github.com/mucioosorio/Diplomado-con-R.-Mayo-de-2021/blob/main/git1.JPG?raw=true)\n"
      ]
    },
    {
      "cell_type": "markdown",
      "metadata": {
        "id": "-NiuQRjC3aWv"
      },
      "source": [
        "\n",
        "2. Seleccione crear un nuevo repositorio o Iniciar un proyecto.\n",
        "\n",
        "![](https://github.com/mucioosorio/Diplomado-con-R.-Mayo-de-2021/blob/main/git2.JPG?raw=true)"
      ]
    },
    {
      "cell_type": "markdown",
      "metadata": {
        "id": "87Xp9cvZ4sRF"
      },
      "source": [
        "3. Escribir el nombre del repositorio y seleccionar si el repositorio será publico o privado (opcionalmente agregar el README file). Luego oprimir el botón de crear repositorio.\n",
        "\n",
        "![](https://github.com/mucioosorio/Diplomado-con-R.-Mayo-de-2021/blob/main/git3.JPG?raw=true)"
      ]
    },
    {
      "cell_type": "markdown",
      "metadata": {
        "id": "uWooHLam7hRM"
      },
      "source": [
        "4. el repositorio ha sido creado y esta disponible para alojar las Notebooks (imagenes, páginas web, programas, etc)\n",
        "\n",
        "![](https://github.com/mucioosorio/Diplomado-con-R.-Mayo-de-2021/blob/main/git4.JPG?raw=true)"
      ]
    },
    {
      "cell_type": "markdown",
      "metadata": {
        "id": "g8wvWN_85n14"
      },
      "source": [
        "Ejemplo de un repositorio público:\n",
        "\n",
        "https://github.com/demar01/penguinsbox"
      ]
    },
    {
      "cell_type": "markdown",
      "metadata": {
        "id": "l_7SSopR8AI_"
      },
      "source": [
        "5. Compartir la Notebook\n",
        "\n",
        "Seleccionr en el menú principal la opción **Archivo** y luego **Guardar una copia en GitHub**\n",
        "\n",
        "![](https://github.com/mucioosorio/Diplomado-con-R.-Mayo-de-2021/blob/main/git5.JPG?raw=true)\n",
        "\n"
      ]
    },
    {
      "cell_type": "code",
      "metadata": {
        "id": "HRvuXvJk4q9i"
      },
      "source": [
        ""
      ],
      "execution_count": null,
      "outputs": []
    },
    {
      "cell_type": "code",
      "metadata": {
        "id": "YO9LaNVX18aP"
      },
      "source": [
        ""
      ],
      "execution_count": null,
      "outputs": []
    },
    {
      "cell_type": "code",
      "metadata": {
        "id": "cpOHobDU0gyF"
      },
      "source": [
        ""
      ],
      "execution_count": null,
      "outputs": []
    },
    {
      "cell_type": "markdown",
      "metadata": {
        "id": "0A9jwqY_BXss"
      },
      "source": [
        "## R y Google Drive\n",
        "\n",
        "El paquete [`googledrive`](https://googledrive.tidyverse.org/)  permite interactuar con documentos almacenados en Google Drive desde R.\n",
        "\n",
        "Para instalar paquetes se usa la función `install.packages(\"Nombre_paquete\")`, en este caso:\n",
        ":\n",
        "\n",
        "```\n",
        "install.packages(\"googledrive\")\n",
        "```\n"
      ]
    },
    {
      "cell_type": "code",
      "metadata": {
        "id": "6auzChvJ1wSR",
        "colab": {
          "base_uri": "https://localhost:8080/"
        },
        "outputId": "528d0751-4bf9-4482-b92c-3785eaec04a0"
      },
      "source": [
        "## instale googledrive\n",
        "install.packages(\"googledrive\")\n",
        "\n",
        "## instala httpuv\n",
        "install.packages(\"httpuv\")\n"
      ],
      "execution_count": 5,
      "outputs": [
        {
          "output_type": "stream",
          "text": [
            "Installing package into ‘/usr/local/lib/R/site-library’\n",
            "(as ‘lib’ is unspecified)\n",
            "\n",
            "Installing package into ‘/usr/local/lib/R/site-library’\n",
            "(as ‘lib’ is unspecified)\n",
            "\n",
            "also installing the dependencies ‘promises’, ‘later’\n",
            "\n",
            "\n"
          ],
          "name": "stderr"
        }
      ]
    },
    {
      "cell_type": "markdown",
      "metadata": {
        "id": "LqEyWfj6CYLO"
      },
      "source": [
        "Luego de instalar un paquete es necesario \"cargarla\" en R antes de usarlo.\n",
        "\n",
        "```\n",
        "library(nombre_paquete\n",
        "```\n",
        "\n"
      ]
    },
    {
      "cell_type": "code",
      "metadata": {
        "id": "LnemQ1X0CHw4"
      },
      "source": [
        "# llamar al paquete googledrive\n",
        "library(googledrive)\n",
        "\n",
        "# llamar al paquete httpuv\n",
        "library(httpuv)"
      ],
      "execution_count": 6,
      "outputs": []
    },
    {
      "cell_type": "code",
      "metadata": {
        "colab": {
          "base_uri": "https://localhost:8080/"
        },
        "id": "um9AEkneDTnf",
        "outputId": "95eec242-0698-4158-a775-a3e191e38a8f"
      },
      "source": [
        "if (file.exists(\"/usr/local/lib/python3.7/dist-packages/google/colab/_ipython.py\")) { #may update python version  \n",
        "                                       #occasionally\n",
        "  install.packages(\"R.utils\")\n",
        "  library(\"R.utils\")\n",
        "  library(\"httr\")\n",
        "  my_check <- function() {return(TRUE)}\n",
        "  reassignInPackage(\"is_interactive\", pkgName = \"httr\", my_check) \n",
        "  options(rlang_interactive=TRUE)\n",
        "}"
      ],
      "execution_count": 7,
      "outputs": [
        {
          "output_type": "stream",
          "text": [
            "Installing package into ‘/usr/local/lib/R/site-library’\n",
            "(as ‘lib’ is unspecified)\n",
            "\n",
            "also installing the dependencies ‘R.oo’, ‘R.methodsS3’\n",
            "\n",
            "\n",
            "Loading required package: R.oo\n",
            "\n",
            "Loading required package: R.methodsS3\n",
            "\n",
            "R.methodsS3 v1.8.1 (2020-08-26 16:20:06 UTC) successfully loaded. See ?R.methodsS3 for help.\n",
            "\n",
            "R.oo v1.24.0 (2020-08-26 16:11:58 UTC) successfully loaded. See ?R.oo for help.\n",
            "\n",
            "\n",
            "Attaching package: ‘R.oo’\n",
            "\n",
            "\n",
            "The following object is masked from ‘package:R.methodsS3’:\n",
            "\n",
            "    throw\n",
            "\n",
            "\n",
            "The following objects are masked from ‘package:methods’:\n",
            "\n",
            "    getClasses, getMethods\n",
            "\n",
            "\n",
            "The following objects are masked from ‘package:base’:\n",
            "\n",
            "    attach, detach, load, save\n",
            "\n",
            "\n",
            "R.utils v2.10.1 (2020-08-26 22:50:31 UTC) successfully loaded. See ?R.utils for help.\n",
            "\n",
            "\n",
            "Attaching package: ‘R.utils’\n",
            "\n",
            "\n",
            "The following object is masked from ‘package:utils’:\n",
            "\n",
            "    timestamp\n",
            "\n",
            "\n",
            "The following objects are masked from ‘package:base’:\n",
            "\n",
            "    cat, commandArgs, getOption, inherits, isOpen, nullfile, parse,\n",
            "    warnings\n",
            "\n",
            "\n"
          ],
          "name": "stderr"
        }
      ]
    },
    {
      "cell_type": "code",
      "metadata": {
        "colab": {
          "base_uri": "https://localhost:8080/"
        },
        "id": "wReTK-fUC1e_",
        "outputId": "b3251ddc-c7df-436d-a5f1-468cfd968ed4"
      },
      "source": [
        "drive_auth(use_oob = TRUE, cache = FALSE)\n"
      ],
      "execution_count": 9,
      "outputs": [
        {
          "output_type": "stream",
          "text": [
            "Please point your browser to the following url: \n",
            "\n",
            "https://accounts.google.com/o/oauth2/auth?client_id=603366585132-dpeg5tt0et3go5of2374d83ifevk5086.apps.googleusercontent.com&scope=https%3A%2F%2Fwww.googleapis.com%2Fauth%2Fdrive%20https%3A%2F%2Fwww.googleapis.com%2Fauth%2Fuserinfo.email&redirect_uri=urn%3Aietf%3Awg%3Aoauth%3A2.0%3Aoob&response_type=code\n",
            "\n"
          ],
          "name": "stderr"
        },
        {
          "output_type": "stream",
          "text": [
            "Enter authorization code: 4/1AX4XfWhKQw6lyLp6iPuLoO1BMiKJjBIcyVxpioufrXkg3VE_Y0JjqJ7eOxs\n"
          ],
          "name": "stdout"
        }
      ]
    },
    {
      "cell_type": "code",
      "metadata": {
        "colab": {
          "base_uri": "https://localhost:8080/",
          "height": 1000
        },
        "id": "RN1PEJKexnsr",
        "outputId": "401a6bdc-13fa-4e90-8e54-309e08a9aa26"
      },
      "source": [
        "read.csv(\"https://drive.google.com/file/d/1rwmh8ItPLt7Ka0gcXgoqhJ-_2etklXN_/view?usp=sharing\")\n"
      ],
      "execution_count": 15,
      "outputs": [
        {
          "output_type": "display_data",
          "data": {
            "text/plain": [
              "     X..DOCTYPE.html.                                                                                                                                                                                                                                                                                                                                  \n",
              "1    <html lang=nl>                                                                                                                                                                                                                                                                                                                                    \n",
              "2      <head>                                                                                                                                                                                                                                                                                                                                          \n",
              "3      <meta charset=utf-8>                                                                                                                                                                                                                                                                                                                            \n",
              "4      <meta content=width=300, initial-scale=1 name=viewport>                                                                                                                                                                                                                                                                                         \n",
              "5      <meta name=description content=Google Drive is een gratis manier om back-ups van je bestanden te maken, zodat je er makkelijk bij kunt vanaf elke telefoon, tablet of computer. Begin met 15 GB gratis opslagruimte van Google.>                                                                                                                \n",
              "6      <meta name=google-site-verification content=LrdTUW9psUAMbh4Ia074-BPEVmcpBxF6Gwf0MSgQXZs>                                                                                                                                                                                                                                                        \n",
              "7      <title>Maak kennis met Google Drive: één plek voor al je bestanden</title>                                                                                                                                                                                                                                                                      \n",
              "8      <style>                                                                                                                                                                                                                                                                                                                                         \n",
              "9      @font-face {                                                                                                                                                                                                                                                                                                                                    \n",
              "10     font-family: 'Open Sans';                                                                                                                                                                                                                                                                                                                       \n",
              "11     font-style: normal;                                                                                                                                                                                                                                                                                                                             \n",
              "12     font-weight: 300;                                                                                                                                                                                                                                                                                                                               \n",
              "13     src: url(//fonts.gstatic.com/s/opensans/v15/mem5YaGs126MiZpBA-UN_r8OUuhs.ttf) format('truetype');                                                                                                                                                                                                                                               \n",
              "14   }                                                                                                                                                                                                                                                                                                                                                 \n",
              "15   @font-face {                                                                                                                                                                                                                                                                                                                                      \n",
              "16     font-family: 'Open Sans';                                                                                                                                                                                                                                                                                                                       \n",
              "17     font-style: normal;                                                                                                                                                                                                                                                                                                                             \n",
              "18     font-weight: 400;                                                                                                                                                                                                                                                                                                                               \n",
              "19     src: url(//fonts.gstatic.com/s/opensans/v15/mem8YaGs126MiZpBA-UFVZ0e.ttf) format('truetype');                                                                                                                                                                                                                                                   \n",
              "20   }                                                                                                                                                                                                                                                                                                                                                 \n",
              "21     </style>                                                                                                                                                                                                                                                                                                                                        \n",
              "22     <style>                                                                                                                                                                                                                                                                                                                                         \n",
              "23     h1                                                                                                                                                                                                                                                                                                                                              \n",
              "24    h2 {                                                                                                                                                                                                                                                                                                                                             \n",
              "25     -webkit-animation-duration: 0.1s;                                                                                                                                                                                                                                                                                                               \n",
              "26     -webkit-animation-name: fontfix;                                                                                                                                                                                                                                                                                                                \n",
              "27     -webkit-animation-iteration-count: 1;                                                                                                                                                                                                                                                                                                           \n",
              "28     -webkit-animation-timing-function: linear;                                                                                                                                                                                                                                                                                                      \n",
              "29     -webkit-animation-delay: 0;                                                                                                                                                                                                                                                                                                                     \n",
              "30     }                                                                                                                                                                                                                                                                                                                                               \n",
              "⋮    ⋮                                                                                                                                                                                                                                                                                                                                                 \n",
              "5047 text:a.responseText})};a.send()};g(gaia.ajax.XmlHttpFormRequest                                                                                                                                                                                                                                                                                   \n",
              "5048 k);k.prototype.get=k.prototype.get;k.prototype.sendJson=k.prototype.m;                                                                                                                                                                                                                                                                            \n",
              "5049 k.prototype.send=k.prototype.send;var l=/\\\\s*;\\\\s*/                                                                                                                                                                                                                                                                                               \n",
              "5050 m=function(){if(!document.cookie)return;for(var b=document.cookie.split(l)                                                                                                                                                                                                                                                                        \n",
              "5051 c=0;c<b.length;c++){var a=b[c];a=a.replace(/^\\\\s+/                                                                                                                                                                                                                                                                                                \n",
              "5052 );a=a.replace(/\\\\s+$/                                                                                                                                                                                                                                                                                                                             \n",
              "5053 );if(0==a.indexOf(APISID=))return a.substr(7)}return};var n=null                                                                                                                                                                                                                                                                                  \n",
              "5054 p=function(b                                                                                                                                                                                                                                                                                                                                      \n",
              "5055 c){this.l=b;this.j=c;this.i=m();this.h=!1}                                                                                                                                                                                                                                                                                                        \n",
              "5056 q=function(){var b=n                                                                                                                                                                                                                                                                                                                              \n",
              "5057 c=m();c==b.i||b.h||(b.i=c                                                                                                                                                                                                                                                                                                                         \n",
              "5058 (new k).get(b.j                                                                                                                                                                                                                                                                                                                                   \n",
              "5059 function(a){var d=n;a&&a.status&&200==a.status&&OK==a.text&&(d.g&&clearInterval(d.g)                                                                                                                                                                                                                                                              \n",
              "5060 d.h||(window.location=d.l))}))};p.prototype.start=function(b){if(this.g)return!1;this.g=setInterval(function(){q()}                                                                                                                                                                                                                               \n",
              "5061 b);return!0};g(gaia.loginAutoRedirect.start                                                                                                                                                                                                                                                                                                       \n",
              "5062 function(b                                                                                                                                                                                                                                                                                                                                        \n",
              "5063 c                                                                                                                                                                                                                                                                                                                                                 \n",
              "5064 a){if(n||!a||!c||0>=b)return!1;n=new p(c                                                                                                                                                                                                                                                                                                          \n",
              "5065 a);return n.start(b)});                                                                                                                                                                                                                                                                                                                           \n",
              "5066 g(gaia.loginAutoRedirect.stop                                                                                                                                                                                                                                                                                                                     \n",
              "5067 function(){var b=n;b.h=!0;b.g&&(clearInterval(b.g)                                                                                                                                                                                                                                                                                                \n",
              "5068 b.g=null)});                                                                                                                                                                                                                                                                                                                                      \n",
              "5069 </script>                                                                                                                                                                                                                                                                                                                                         \n",
              "5070   <script type=text/javascript nonce=sHfe3x4PT6Wh86ISj6l4Ew>                                                                                                                                                                                                                                                                                      \n",
              "5071   gaia.loginAutoRedirect.start(5000                                                                                                                                                                                                                                                                                                               \n",
              "5072   'https:\\\\x2F\\\\x2Faccounts.google.com\\\\x2FServiceLogin?continue=https%3A%2F%2Fdrive.google.com%2Ffile%2Fd%2F1rwmh8ItPLt7Ka0gcXgoqhJ-_2etklXN_%2Fview%3Fusp%3Dsharing\\\\x26followup=https%3A%2F%2Fdrive.google.com%2Ffile%2Fd%2F1rwmh8ItPLt7Ka0gcXgoqhJ-_2etklXN_%2Fview%3Fusp%3Dsharing\\\\x26service=wise\\\\x26passive=1209600\\\\x26noautologin=true'\n",
              "5073   'https:\\\\x2F\\\\x2Faccounts.google.com\\\\x2FPassiveLoginProber?continue=https%3A%2F%2Fdrive.google.com%2Ffile%2Fd%2F1rwmh8ItPLt7Ka0gcXgoqhJ-_2etklXN_%2Fview%3Fusp%3Dsharing\\\\x26followup=https%3A%2F%2Fdrive.google.com%2Ffile%2Fd%2F1rwmh8ItPLt7Ka0gcXgoqhJ-_2etklXN_%2Fview%3Fusp%3Dsharing\\\\x26service=wise\\\\x26passive=1209600');             \n",
              "5074   </script>                                                                                                                                                                                                                                                                                                                                       \n",
              "5075   </body>                                                                                                                                                                                                                                                                                                                                         \n",
              "5076 </html>                                                                                                                                                                                                                                                                                                                                           "
            ],
            "text/latex": "A data.frame: 5076 × 1\n\\begin{tabular}{l}\n X..DOCTYPE.html.\\\\\n <chr>\\\\\n\\hline\n\t <html lang=nl>                                                                                                                                                                                                                    \\\\\n\t   <head>                                                                                                                                                                                                                          \\\\\n\t   <meta charset=utf-8>                                                                                                                                                                                                            \\\\\n\t   <meta content=width=300, initial-scale=1 name=viewport>                                                                                                                                                                         \\\\\n\t   <meta name=description content=Google Drive is een gratis manier om back-ups van je bestanden te maken, zodat je er makkelijk bij kunt vanaf elke telefoon, tablet of computer. Begin met 15 GB gratis opslagruimte van Google.>\\\\\n\t   <meta name=google-site-verification content=LrdTUW9psUAMbh4Ia074-BPEVmcpBxF6Gwf0MSgQXZs>                                                                                                                                        \\\\\n\t   <title>Maak kennis met Google Drive: één plek voor al je bestanden</title>                                                                                                                                                      \\\\\n\t   <style>                                                                                                                                                                                                                         \\\\\n\t   @font-face \\{                                                                                                                                                                                                                    \\\\\n\t   font-family: 'Open Sans';                                                                                                                                                                                                       \\\\\n\t   font-style: normal;                                                                                                                                                                                                             \\\\\n\t   font-weight: 300;                                                                                                                                                                                                               \\\\\n\t   src: url(//fonts.gstatic.com/s/opensans/v15/mem5YaGs126MiZpBA-UN\\_r8OUuhs.ttf) format('truetype');                                                                                                                               \\\\\n\t \\}                                                                                                                                                                                                                                 \\\\\n\t @font-face \\{                                                                                                                                                                                                                      \\\\\n\t   font-family: 'Open Sans';                                                                                                                                                                                                       \\\\\n\t   font-style: normal;                                                                                                                                                                                                             \\\\\n\t   font-weight: 400;                                                                                                                                                                                                               \\\\\n\t   src: url(//fonts.gstatic.com/s/opensans/v15/mem8YaGs126MiZpBA-UFVZ0e.ttf) format('truetype');                                                                                                                                   \\\\\n\t \\}                                                                                                                                                                                                                                 \\\\\n\t   </style>                                                                                                                                                                                                                        \\\\\n\t   <style>                                                                                                                                                                                                                         \\\\\n\t   h1                                                                                                                                                                                                                              \\\\\n\t  h2 \\{                                                                                                                                                                                                                             \\\\\n\t   -webkit-animation-duration: 0.1s;                                                                                                                                                                                               \\\\\n\t   -webkit-animation-name: fontfix;                                                                                                                                                                                                \\\\\n\t   -webkit-animation-iteration-count: 1;                                                                                                                                                                                           \\\\\n\t   -webkit-animation-timing-function: linear;                                                                                                                                                                                      \\\\\n\t   -webkit-animation-delay: 0;                                                                                                                                                                                                     \\\\\n\t   \\}                                                                                                                                                                                                                               \\\\\n\t ⋮\\\\\n\t text:a.responseText\\})\\};a.send()\\};g(gaia.ajax.XmlHttpFormRequest                                                                                                                                                                                                                                                                                   \\\\\n\t k);k.prototype.get=k.prototype.get;k.prototype.sendJson=k.prototype.m;                                                                                                                                                                                                                                                                            \\\\\n\t k.prototype.send=k.prototype.send;var l=/\\textbackslash{}s*;\\textbackslash{}s*/                                                                                                                                                                                                                                                                                               \\\\\n\t m=function()\\{if(!document.cookie)return;for(var b=document.cookie.split(l)                                                                                                                                                                                                                                                                        \\\\\n\t c=0;c<b.length;c++)\\{var a=b{[}c{]};a=a.replace(/\\textasciicircum{}\\textbackslash{}s+/                                                                                                                                                                                                                                                                                                \\\\\n\t );a=a.replace(/\\textbackslash{}s+\\$/                                                                                                                                                                                                                                                                                                                             \\\\\n\t );if(0==a.indexOf(APISID=))return a.substr(7)\\}return\\};var n=null                                                                                                                                                                                                                                                                                  \\\\\n\t p=function(b                                                                                                                                                                                                                                                                                                                                      \\\\\n\t c)\\{this.l=b;this.j=c;this.i=m();this.h=!1\\}                                                                                                                                                                                                                                                                                                        \\\\\n\t q=function()\\{var b=n                                                                                                                                                                                                                                                                                                                              \\\\\n\t c=m();c==b.i\\textbar{}\\textbar{}b.h\\textbar{}\\textbar{}(b.i=c                                                                                                                                                                                                                                                                                                                         \\\\\n\t (new k).get(b.j                                                                                                                                                                                                                                                                                                                                   \\\\\n\t function(a)\\{var d=n;a\\&\\&a.status\\&\\&200==a.status\\&\\&OK==a.text\\&\\&(d.g\\&\\&clearInterval(d.g)                                                                                                                                                                                                                                                              \\\\\n\t d.h\\textbar{}\\textbar{}(window.location=d.l))\\}))\\};p.prototype.start=function(b)\\{if(this.g)return!1;this.g=setInterval(function()\\{q()\\}                                                                                                                                                                                                                               \\\\\n\t b);return!0\\};g(gaia.loginAutoRedirect.start                                                                                                                                                                                                                                                                                                       \\\\\n\t function(b                                                                                                                                                                                                                                                                                                                                        \\\\\n\t c                                                                                                                                                                                                                                                                                                                                                 \\\\\n\t a)\\{if(n\\textbar{}\\textbar{}!a\\textbar{}\\textbar{}!c\\textbar{}\\textbar{}0>=b)return!1;n=new p(c                                                                                                                                                                                                                                                                                                          \\\\\n\t a);return n.start(b)\\});                                                                                                                                                                                                                                                                                                                           \\\\\n\t g(gaia.loginAutoRedirect.stop                                                                                                                                                                                                                                                                                                                     \\\\\n\t function()\\{var b=n;b.h=!0;b.g\\&\\&(clearInterval(b.g)                                                                                                                                                                                                                                                                                                \\\\\n\t b.g=null)\\});                                                                                                                                                                                                                                                                                                                                      \\\\\n\t </script>                                                                                                                                                                                                                                                                                                                                         \\\\\n\t   <script type=text/javascript nonce=sHfe3x4PT6Wh86ISj6l4Ew>                                                                                                                                                                                                                                                                                      \\\\\n\t   gaia.loginAutoRedirect.start(5000                                                                                                                                                                                                                                                                                                               \\\\\n\t   'https:\\textbackslash{}x2F\\textbackslash{}x2Faccounts.google.com\\textbackslash{}x2FServiceLogin?continue=https\\%3A\\%2F\\%2Fdrive.google.com\\%2Ffile\\%2Fd\\%2F1rwmh8ItPLt7Ka0gcXgoqhJ-\\_2etklXN\\_\\%2Fview\\%3Fusp\\%3Dsharing\\textbackslash{}x26followup=https\\%3A\\%2F\\%2Fdrive.google.com\\%2Ffile\\%2Fd\\%2F1rwmh8ItPLt7Ka0gcXgoqhJ-\\_2etklXN\\_\\%2Fview\\%3Fusp\\%3Dsharing\\textbackslash{}x26service=wise\\textbackslash{}x26passive=1209600\\textbackslash{}x26noautologin=true'\\\\\n\t   'https:\\textbackslash{}x2F\\textbackslash{}x2Faccounts.google.com\\textbackslash{}x2FPassiveLoginProber?continue=https\\%3A\\%2F\\%2Fdrive.google.com\\%2Ffile\\%2Fd\\%2F1rwmh8ItPLt7Ka0gcXgoqhJ-\\_2etklXN\\_\\%2Fview\\%3Fusp\\%3Dsharing\\textbackslash{}x26followup=https\\%3A\\%2F\\%2Fdrive.google.com\\%2Ffile\\%2Fd\\%2F1rwmh8ItPLt7Ka0gcXgoqhJ-\\_2etklXN\\_\\%2Fview\\%3Fusp\\%3Dsharing\\textbackslash{}x26service=wise\\textbackslash{}x26passive=1209600');             \\\\\n\t   </script>                                                                                                                                                                                                                                                                                                                                       \\\\\n\t   </body>                                                                                                                                                                                                                                                                                                                                         \\\\\n\t </html>                                                                                                                                                                                                                                                                                                                                           \\\\\n\\end{tabular}\n",
            "text/markdown": "\nA data.frame: 5076 × 1\n\n| X..DOCTYPE.html. &lt;chr&gt; |\n|---|\n| &lt;html lang=nl&gt;                                                                                                                                                                                                                     |\n|   &lt;head&gt;                                                                                                                                                                                                                           |\n|   &lt;meta charset=utf-8&gt;                                                                                                                                                                                                             |\n|   &lt;meta content=width=300, initial-scale=1 name=viewport&gt;                                                                                                                                                                          |\n|   &lt;meta name=description content=Google Drive is een gratis manier om back-ups van je bestanden te maken, zodat je er makkelijk bij kunt vanaf elke telefoon, tablet of computer. Begin met 15 GB gratis opslagruimte van Google.&gt; |\n|   &lt;meta name=google-site-verification content=LrdTUW9psUAMbh4Ia074-BPEVmcpBxF6Gwf0MSgQXZs&gt;                                                                                                                                         |\n|   &lt;title&gt;Maak kennis met Google Drive: één plek voor al je bestanden&lt;/title&gt;                                                                                                                                                       |\n|   &lt;style&gt;                                                                                                                                                                                                                          |\n|   @font-face {                                                                                                                                                                                                                     |\n|   font-family: 'Open Sans';                                                                                                                                                                                                        |\n|   font-style: normal;                                                                                                                                                                                                              |\n|   font-weight: 300;                                                                                                                                                                                                                |\n|   src: url(//fonts.gstatic.com/s/opensans/v15/mem5YaGs126MiZpBA-UN_r8OUuhs.ttf) format('truetype');                                                                                                                                |\n| }                                                                                                                                                                                                                                  |\n| @font-face {                                                                                                                                                                                                                       |\n|   font-family: 'Open Sans';                                                                                                                                                                                                        |\n|   font-style: normal;                                                                                                                                                                                                              |\n|   font-weight: 400;                                                                                                                                                                                                                |\n|   src: url(//fonts.gstatic.com/s/opensans/v15/mem8YaGs126MiZpBA-UFVZ0e.ttf) format('truetype');                                                                                                                                    |\n| }                                                                                                                                                                                                                                  |\n|   &lt;/style&gt;                                                                                                                                                                                                                         |\n|   &lt;style&gt;                                                                                                                                                                                                                          |\n|   h1                                                                                                                                                                                                                               |\n|  h2 {                                                                                                                                                                                                                              |\n|   -webkit-animation-duration: 0.1s;                                                                                                                                                                                                |\n|   -webkit-animation-name: fontfix;                                                                                                                                                                                                 |\n|   -webkit-animation-iteration-count: 1;                                                                                                                                                                                            |\n|   -webkit-animation-timing-function: linear;                                                                                                                                                                                       |\n|   -webkit-animation-delay: 0;                                                                                                                                                                                                      |\n|   }                                                                                                                                                                                                                                |\n| ⋮ |\n| text:a.responseText})};a.send()};g(gaia.ajax.XmlHttpFormRequest                                                                                                                                                                                                                                                                                    |\n| k);k.prototype.get=k.prototype.get;k.prototype.sendJson=k.prototype.m;                                                                                                                                                                                                                                                                             |\n| k.prototype.send=k.prototype.send;var l=/\\s*;\\s*/                                                                                                                                                                                                                                                                                                |\n| m=function(){if(!document.cookie)return;for(var b=document.cookie.split(l)                                                                                                                                                                                                                                                                         |\n| c=0;c&lt;b.length;c++){var a=b[c];a=a.replace(/^\\s+/                                                                                                                                                                                                                                                                                                 |\n| );a=a.replace(/\\s+$/                                                                                                                                                                                                                                                                                                                              |\n| );if(0==a.indexOf(APISID=))return a.substr(7)}return};var n=null                                                                                                                                                                                                                                                                                   |\n| p=function(b                                                                                                                                                                                                                                                                                                                                       |\n| c){this.l=b;this.j=c;this.i=m();this.h=!1}                                                                                                                                                                                                                                                                                                         |\n| q=function(){var b=n                                                                                                                                                                                                                                                                                                                               |\n| c=m();c==b.i||b.h||(b.i=c                                                                                                                                                                                                                                                                                                                          |\n| (new k).get(b.j                                                                                                                                                                                                                                                                                                                                    |\n| function(a){var d=n;a&amp;&amp;a.status&amp;&amp;200==a.status&amp;&amp;OK==a.text&amp;&amp;(d.g&amp;&amp;clearInterval(d.g)                                                                                                                                                                                                                                                               |\n| d.h||(window.location=d.l))}))};p.prototype.start=function(b){if(this.g)return!1;this.g=setInterval(function(){q()}                                                                                                                                                                                                                                |\n| b);return!0};g(gaia.loginAutoRedirect.start                                                                                                                                                                                                                                                                                                        |\n| function(b                                                                                                                                                                                                                                                                                                                                         |\n| c                                                                                                                                                                                                                                                                                                                                                  |\n| a){if(n||!a||!c||0&gt;=b)return!1;n=new p(c                                                                                                                                                                                                                                                                                                           |\n| a);return n.start(b)});                                                                                                                                                                                                                                                                                                                            |\n| g(gaia.loginAutoRedirect.stop                                                                                                                                                                                                                                                                                                                      |\n| function(){var b=n;b.h=!0;b.g&amp;&amp;(clearInterval(b.g)                                                                                                                                                                                                                                                                                                 |\n| b.g=null)});                                                                                                                                                                                                                                                                                                                                       |\n| &lt;/script&gt;                                                                                                                                                                                                                                                                                                                                          |\n|   &lt;script type=text/javascript nonce=sHfe3x4PT6Wh86ISj6l4Ew&gt;                                                                                                                                                                                                                                                                                       |\n|   gaia.loginAutoRedirect.start(5000                                                                                                                                                                                                                                                                                                                |\n|   'https:\\x2F\\x2Faccounts.google.com\\x2FServiceLogin?continue=https%3A%2F%2Fdrive.google.com%2Ffile%2Fd%2F1rwmh8ItPLt7Ka0gcXgoqhJ-_2etklXN_%2Fview%3Fusp%3Dsharing\\x26followup=https%3A%2F%2Fdrive.google.com%2Ffile%2Fd%2F1rwmh8ItPLt7Ka0gcXgoqhJ-_2etklXN_%2Fview%3Fusp%3Dsharing\\x26service=wise\\x26passive=1209600\\x26noautologin=true' |\n|   'https:\\x2F\\x2Faccounts.google.com\\x2FPassiveLoginProber?continue=https%3A%2F%2Fdrive.google.com%2Ffile%2Fd%2F1rwmh8ItPLt7Ka0gcXgoqhJ-_2etklXN_%2Fview%3Fusp%3Dsharing\\x26followup=https%3A%2F%2Fdrive.google.com%2Ffile%2Fd%2F1rwmh8ItPLt7Ka0gcXgoqhJ-_2etklXN_%2Fview%3Fusp%3Dsharing\\x26service=wise\\x26passive=1209600');              |\n|   &lt;/script&gt;                                                                                                                                                                                                                                                                                                                                        |\n|   &lt;/body&gt;                                                                                                                                                                                                                                                                                                                                          |\n| &lt;/html&gt;                                                                                                                                                                                                                                                                                                                                            |\n\n",
            "text/html": [
              "<table class=\"dataframe\">\n",
              "<caption>A data.frame: 5076 × 1</caption>\n",
              "<thead>\n",
              "\t<tr><th scope=col>X..DOCTYPE.html.</th></tr>\n",
              "\t<tr><th scope=col>&lt;chr&gt;</th></tr>\n",
              "</thead>\n",
              "<tbody>\n",
              "\t<tr><td><span style=white-space:pre-wrap>&lt;html lang=nl&gt;                                                                                                                                                                                                                    </span></td></tr>\n",
              "\t<tr><td><span style=white-space:pre-wrap>  &lt;head&gt;                                                                                                                                                                                                                          </span></td></tr>\n",
              "\t<tr><td><span style=white-space:pre-wrap>  &lt;meta charset=utf-8&gt;                                                                                                                                                                                                            </span></td></tr>\n",
              "\t<tr><td><span style=white-space:pre-wrap>  &lt;meta content=width=300, initial-scale=1 name=viewport&gt;                                                                                                                                                                         </span></td></tr>\n",
              "\t<tr><td><span style=white-space:pre-wrap>  &lt;meta name=description content=Google Drive is een gratis manier om back-ups van je bestanden te maken, zodat je er makkelijk bij kunt vanaf elke telefoon, tablet of computer. Begin met 15 GB gratis opslagruimte van Google.&gt;</span></td></tr>\n",
              "\t<tr><td><span style=white-space:pre-wrap>  &lt;meta name=google-site-verification content=LrdTUW9psUAMbh4Ia074-BPEVmcpBxF6Gwf0MSgQXZs&gt;                                                                                                                                        </span></td></tr>\n",
              "\t<tr><td><span style=white-space:pre-wrap>  &lt;title&gt;Maak kennis met Google Drive: één plek voor al je bestanden&lt;/title&gt;                                                                                                                                                      </span></td></tr>\n",
              "\t<tr><td><span style=white-space:pre-wrap>  &lt;style&gt;                                                                                                                                                                                                                         </span></td></tr>\n",
              "\t<tr><td>  @font-face {                                                                                                                                                                                                                    </td></tr>\n",
              "\t<tr><td>  font-family: 'Open Sans';                                                                                                                                                                                                       </td></tr>\n",
              "\t<tr><td>  font-style: normal;                                                                                                                                                                                                             </td></tr>\n",
              "\t<tr><td>  font-weight: 300;                                                                                                                                                                                                               </td></tr>\n",
              "\t<tr><td>  src: url(//fonts.gstatic.com/s/opensans/v15/mem5YaGs126MiZpBA-UN_r8OUuhs.ttf) format('truetype');                                                                                                                               </td></tr>\n",
              "\t<tr><td>}                                                                                                                                                                                                                                 </td></tr>\n",
              "\t<tr><td>@font-face {                                                                                                                                                                                                                      </td></tr>\n",
              "\t<tr><td>  font-family: 'Open Sans';                                                                                                                                                                                                       </td></tr>\n",
              "\t<tr><td>  font-style: normal;                                                                                                                                                                                                             </td></tr>\n",
              "\t<tr><td>  font-weight: 400;                                                                                                                                                                                                               </td></tr>\n",
              "\t<tr><td>  src: url(//fonts.gstatic.com/s/opensans/v15/mem8YaGs126MiZpBA-UFVZ0e.ttf) format('truetype');                                                                                                                                   </td></tr>\n",
              "\t<tr><td>}                                                                                                                                                                                                                                 </td></tr>\n",
              "\t<tr><td><span style=white-space:pre-wrap>  &lt;/style&gt;                                                                                                                                                                                                                        </span></td></tr>\n",
              "\t<tr><td><span style=white-space:pre-wrap>  &lt;style&gt;                                                                                                                                                                                                                         </span></td></tr>\n",
              "\t<tr><td>  h1                                                                                                                                                                                                                              </td></tr>\n",
              "\t<tr><td> h2 {                                                                                                                                                                                                                             </td></tr>\n",
              "\t<tr><td>  -webkit-animation-duration: 0.1s;                                                                                                                                                                                               </td></tr>\n",
              "\t<tr><td>  -webkit-animation-name: fontfix;                                                                                                                                                                                                </td></tr>\n",
              "\t<tr><td>  -webkit-animation-iteration-count: 1;                                                                                                                                                                                           </td></tr>\n",
              "\t<tr><td>  -webkit-animation-timing-function: linear;                                                                                                                                                                                      </td></tr>\n",
              "\t<tr><td>  -webkit-animation-delay: 0;                                                                                                                                                                                                     </td></tr>\n",
              "\t<tr><td>  }                                                                                                                                                                                                                               </td></tr>\n",
              "\t<tr><td>⋮</td></tr>\n",
              "\t<tr><td>text:a.responseText})};a.send()};g(gaia.ajax.XmlHttpFormRequest                                                                                                                                                                                                                                                                                   </td></tr>\n",
              "\t<tr><td>k);k.prototype.get=k.prototype.get;k.prototype.sendJson=k.prototype.m;                                                                                                                                                                                                                                                                            </td></tr>\n",
              "\t<tr><td>k.prototype.send=k.prototype.send;var l=/\\s*;\\s*/                                                                                                                                                                                                                                                                                               </td></tr>\n",
              "\t<tr><td>m=function(){if(!document.cookie)return;for(var b=document.cookie.split(l)                                                                                                                                                                                                                                                                        </td></tr>\n",
              "\t<tr><td><span style=white-space:pre-wrap>c=0;c&lt;b.length;c++){var a=b[c];a=a.replace(/^\\s+/                                                                                                                                                                                                                                                                                                </span></td></tr>\n",
              "\t<tr><td>);a=a.replace(/\\s+$/                                                                                                                                                                                                                                                                                                                             </td></tr>\n",
              "\t<tr><td>);if(0==a.indexOf(APISID=))return a.substr(7)}return};var n=null                                                                                                                                                                                                                                                                                  </td></tr>\n",
              "\t<tr><td>p=function(b                                                                                                                                                                                                                                                                                                                                      </td></tr>\n",
              "\t<tr><td>c){this.l=b;this.j=c;this.i=m();this.h=!1}                                                                                                                                                                                                                                                                                                        </td></tr>\n",
              "\t<tr><td>q=function(){var b=n                                                                                                                                                                                                                                                                                                                              </td></tr>\n",
              "\t<tr><td>c=m();c==b.i||b.h||(b.i=c                                                                                                                                                                                                                                                                                                                         </td></tr>\n",
              "\t<tr><td>(new k).get(b.j                                                                                                                                                                                                                                                                                                                                   </td></tr>\n",
              "\t<tr><td><span style=white-space:pre-wrap>function(a){var d=n;a&amp;&amp;a.status&amp;&amp;200==a.status&amp;&amp;OK==a.text&amp;&amp;(d.g&amp;&amp;clearInterval(d.g)                                                                                                                                                                                                                                                              </span></td></tr>\n",
              "\t<tr><td>d.h||(window.location=d.l))}))};p.prototype.start=function(b){if(this.g)return!1;this.g=setInterval(function(){q()}                                                                                                                                                                                                                               </td></tr>\n",
              "\t<tr><td>b);return!0};g(gaia.loginAutoRedirect.start                                                                                                                                                                                                                                                                                                       </td></tr>\n",
              "\t<tr><td>function(b                                                                                                                                                                                                                                                                                                                                        </td></tr>\n",
              "\t<tr><td>c                                                                                                                                                                                                                                                                                                                                                 </td></tr>\n",
              "\t<tr><td><span style=white-space:pre-wrap>a){if(n||!a||!c||0&gt;=b)return!1;n=new p(c                                                                                                                                                                                                                                                                                                          </span></td></tr>\n",
              "\t<tr><td>a);return n.start(b)});                                                                                                                                                                                                                                                                                                                           </td></tr>\n",
              "\t<tr><td>g(gaia.loginAutoRedirect.stop                                                                                                                                                                                                                                                                                                                     </td></tr>\n",
              "\t<tr><td><span style=white-space:pre-wrap>function(){var b=n;b.h=!0;b.g&amp;&amp;(clearInterval(b.g)                                                                                                                                                                                                                                                                                                </span></td></tr>\n",
              "\t<tr><td>b.g=null)});                                                                                                                                                                                                                                                                                                                                      </td></tr>\n",
              "\t<tr><td><span style=white-space:pre-wrap>&lt;/script&gt;                                                                                                                                                                                                                                                                                                                                         </span></td></tr>\n",
              "\t<tr><td><span style=white-space:pre-wrap>  &lt;script type=text/javascript nonce=sHfe3x4PT6Wh86ISj6l4Ew&gt;                                                                                                                                                                                                                                                                                      </span></td></tr>\n",
              "\t<tr><td>  gaia.loginAutoRedirect.start(5000                                                                                                                                                                                                                                                                                                               </td></tr>\n",
              "\t<tr><td>  'https:\\x2F\\x2Faccounts.google.com\\x2FServiceLogin?continue=https%3A%2F%2Fdrive.google.com%2Ffile%2Fd%2F1rwmh8ItPLt7Ka0gcXgoqhJ-_2etklXN_%2Fview%3Fusp%3Dsharing\\x26followup=https%3A%2F%2Fdrive.google.com%2Ffile%2Fd%2F1rwmh8ItPLt7Ka0gcXgoqhJ-_2etklXN_%2Fview%3Fusp%3Dsharing\\x26service=wise\\x26passive=1209600\\x26noautologin=true'</td></tr>\n",
              "\t<tr><td>  'https:\\x2F\\x2Faccounts.google.com\\x2FPassiveLoginProber?continue=https%3A%2F%2Fdrive.google.com%2Ffile%2Fd%2F1rwmh8ItPLt7Ka0gcXgoqhJ-_2etklXN_%2Fview%3Fusp%3Dsharing\\x26followup=https%3A%2F%2Fdrive.google.com%2Ffile%2Fd%2F1rwmh8ItPLt7Ka0gcXgoqhJ-_2etklXN_%2Fview%3Fusp%3Dsharing\\x26service=wise\\x26passive=1209600');             </td></tr>\n",
              "\t<tr><td><span style=white-space:pre-wrap>  &lt;/script&gt;                                                                                                                                                                                                                                                                                                                                       </span></td></tr>\n",
              "\t<tr><td><span style=white-space:pre-wrap>  &lt;/body&gt;                                                                                                                                                                                                                                                                                                                                         </span></td></tr>\n",
              "\t<tr><td><span style=white-space:pre-wrap>&lt;/html&gt;                                                                                                                                                                                                                                                                                                                                           </span></td></tr>\n",
              "</tbody>\n",
              "</table>\n"
            ]
          },
          "metadata": {}
        }
      ]
    },
    {
      "cell_type": "code",
      "metadata": {
        "id": "jKY9i68_yfKu"
      },
      "source": [
        ""
      ],
      "execution_count": null,
      "outputs": []
    }
  ]
}